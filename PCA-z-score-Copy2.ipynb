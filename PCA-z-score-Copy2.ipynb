{
 "cells": [
  {
   "cell_type": "code",
   "execution_count": null,
   "metadata": {},
   "outputs": [],
   "source": [
    "path=\"C:/Users/Jordi/\"\n",
    "setwd(path)\n",
    "mydata = read.csv(\"data-all.csv\", sep=\";\")\n",
    "#print(mydata)\n",
    "head(mydata)"
   ]
  },
  {
   "cell_type": "code",
   "execution_count": null,
   "metadata": {},
   "outputs": [],
   "source": [
    "#log.ir <- log(mydata[,5:61]+1)\n",
    "#print(log.ir)\n",
    "#myDT <- mydata[!complete.cases(mydata), ]\n",
    "#print(myDT)\n",
    "#print(table(myDT['label']))\n",
    "dim(mydata)"
   ]
  },
  {
   "cell_type": "code",
   "execution_count": null,
   "metadata": {},
   "outputs": [],
   "source": [
    "#z-score\n",
    "log.ir <-scale(mydata[,5:61], center = TRUE, scale = TRUE)\n",
    "#print( scale(mydata[,5:61], center = TRUE, scale = TRUE))\n",
    "dim(log.ir)"
   ]
  },
  {
   "cell_type": "code",
   "execution_count": null,
   "metadata": {},
   "outputs": [],
   "source": [
    "head(mydata)"
   ]
  },
  {
   "cell_type": "code",
   "execution_count": null,
   "metadata": {
    "scrolled": false
   },
   "outputs": [],
   "source": [
    "options(max.print=1000000)\n",
    "ir.label <- mydata[,4]\n",
    "ir.pca <- prcomp(log.ir, center = TRUE, scale. = TRUE)\n",
    "print(ir.pca)"
   ]
  },
  {
   "cell_type": "code",
   "execution_count": null,
   "metadata": {},
   "outputs": [],
   "source": [
    "summary(ir.pca)"
   ]
  },
  {
   "cell_type": "code",
   "execution_count": null,
   "metadata": {},
   "outputs": [],
   "source": [
    "plot(ir.pca, type = \"l\")\n"
   ]
  },
  {
   "cell_type": "code",
   "execution_count": null,
   "metadata": {},
   "outputs": [],
   "source": [
    "summary(ir.pca)\n"
   ]
  },
  {
   "cell_type": "code",
   "execution_count": null,
   "metadata": {},
   "outputs": [],
   "source": [
    "predict(ir.pca,\n",
    "newdata=tail(log.ir, 2))"
   ]
  },
  {
   "cell_type": "code",
   "execution_count": null,
   "metadata": {},
   "outputs": [],
   "source": [
    "library(devtools)\n",
    "library(ggbiplot)\n",
    "g <- ggbiplot(ir.pca, obs.scale = 1, var.scale = 1, groups = ir.label, ellipse = TRUE, circle = TRUE)\n",
    "g <- g + scale_color_discrete(name = '')\n",
    "g <- g + theme(legend.direction = 'horizontal', legend.position = 'top')\n",
    "print(g)"
   ]
  },
  {
   "cell_type": "code",
   "execution_count": null,
   "metadata": {},
   "outputs": [],
   "source": [
    "my_data <- mydata[,5:61]"
   ]
  },
  {
   "cell_type": "code",
   "execution_count": null,
   "metadata": {},
   "outputs": [],
   "source": [
    "my_data_ordered <- my_data[,order(colnames(my_data))]"
   ]
  },
  {
   "cell_type": "code",
   "execution_count": null,
   "metadata": {},
   "outputs": [],
   "source": [
    "options(repr.matrix.max.rows = 100)\n",
    "options(repr.matrix.max.cols = 100)\n",
    "res <- cor(my_data_ordered)\n",
    "round(res, 2)"
   ]
  },
  {
   "cell_type": "code",
   "execution_count": null,
   "metadata": {},
   "outputs": [],
   "source": [
    "library(corrplot)\n",
    "corrplot(res, type = \"lower\", tl.col = \"black\", tl.srt = 45, tl.cex = 0.5)"
   ]
  },
  {
   "cell_type": "code",
   "execution_count": null,
   "metadata": {},
   "outputs": [],
   "source": []
  }
 ],
 "metadata": {
  "kernelspec": {
   "display_name": "R",
   "language": "R",
   "name": "ir"
  },
  "language_info": {
   "codemirror_mode": "r",
   "file_extension": ".r",
   "mimetype": "text/x-r-source",
   "name": "R",
   "pygments_lexer": "r",
   "version": "3.5.1"
  }
 },
 "nbformat": 4,
 "nbformat_minor": 2
}
